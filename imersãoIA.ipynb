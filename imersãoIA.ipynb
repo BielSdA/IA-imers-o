{
  "nbformat": 4,
  "nbformat_minor": 0,
  "metadata": {
    "colab": {
      "provenance": [],
      "authorship_tag": "ABX9TyPWZFeEZYGa6GtpU2WCzw0Y",
      "include_colab_link": true
    },
    "kernelspec": {
      "name": "python3",
      "display_name": "Python 3"
    },
    "language_info": {
      "name": "python"
    }
  },
  "cells": [
    {
      "cell_type": "markdown",
      "metadata": {
        "id": "view-in-github",
        "colab_type": "text"
      },
      "source": [
        "<a href=\"https://colab.research.google.com/github/BielSdA/IA-imers-o/blob/main/imers%C3%A3oIA.ipynb\" target=\"_parent\"><img src=\"https://colab.research.google.com/assets/colab-badge.svg\" alt=\"Open In Colab\"/></a>"
      ]
    },
    {
      "cell_type": "code",
      "execution_count": 28,
      "metadata": {
        "colab": {
          "base_uri": "https://localhost:8080/"
        },
        "id": "WK4-Mx0wO2I3",
        "outputId": "d86a0682-2555-47fb-c5ba-f0c8090a5b23"
      },
      "outputs": [
        {
          "output_type": "execute_result",
          "data": {
            "text/plain": [
              "[{'palavra': 'python',\n",
              "  'dica': 'automatizar tarefas e desenvolver aplicações web.'},\n",
              " {'palavra': 'javascript',\n",
              "  'dica': 'criar interatividade em páginas web e desenvolver aplicações front-end.'},\n",
              " {'palavra': 'java',\n",
              "  'dica': 'desenvolver aplicações empresariais e para dispositivos móveis.'},\n",
              " {'palavra': 'html', 'dica': 'estruturar conteúdo em páginas web.'},\n",
              " {'palavra': 'css', 'dica': 'estilizar elementos em páginas web.'},\n",
              " {'palavra': 'sql',\n",
              "  'dica': 'gerenciar e consultar bancos de dados relacionais.'},\n",
              " {'palavra': 'react',\n",
              "  'dica': 'desenvolver interfaces de usuário reativas e escaláveis.'},\n",
              " {'palavra': 'angular',\n",
              "  'dica': 'construir aplicativos web spa (single page application) complexos.'},\n",
              " {'palavra': 'node',\n",
              "  'dica': 'criar aplicativos de servidor escaláveis e de alta performance.'},\n",
              " {'palavra': 'vue',\n",
              "  'dica': 'desenvolver interfaces de usuário interativas e dinâmicas.'},\n",
              " {'palavra': 'ruby',\n",
              "  'dica': 'desenvolver aplicações web e scripts de automação.'},\n",
              " {'palavra': 'php',\n",
              "  'dica': 'construir aplicações web dinâmicas e interativas.'},\n",
              " {'palavra': 'c++',\n",
              "  'dica': 'desenvolver software de sistema, jogos e aplicações de alto desempenho.'},\n",
              " {'palavra': 'c#',\n",
              "  'dica': 'desenvolver aplicações windows e jogos utilizando o framework .net.'},\n",
              " {'palavra': 'swift',\n",
              "  'dica': 'desenvolver aplicativos para dispositivos apple, como iphone e ipad.'},\n",
              " {'palavra': 'kotlin',\n",
              "  'dica': 'desenvolver aplicativos android modernos e seguros.'},\n",
              " {'palavra': 'tensorflow',\n",
              "  'dica': 'construir e treinar modelos de aprendizado de máquina.'},\n",
              " {'palavra': 'pytorch',\n",
              "  'dica': 'desenvolver e treinar modelos de aprendizado profundo.'},\n",
              " {'palavra': 'mongodb',\n",
              "  'dica': 'armazenar e consultar dados de forma flexível e escalável.'},\n",
              " {'palavra': 'postgresql',\n",
              "  'dica': 'gerenciar dados estruturados e relacionais com segurança.'},\n",
              " {'palavra': 'docker',\n",
              "  'dica': 'empacotar, distribuir e executar aplicativos em contêineres.'},\n",
              " {'palavra': 'kubernetes',\n",
              "  'dica': 'orquestrar e gerenciar contêineres em ambientes de produção.'},\n",
              " {'palavra': 'git',\n",
              "  'dica': 'controlar e colaborar no desenvolvimento de código-fonte.'},\n",
              " {'palavra': 'jupyter',\n",
              "  'dica': 'criar e compartilhar documentos que contenham código interativo, visualizações e textos explicativos.'},\n",
              " {'palavra': 'r',\n",
              "  'dica': 'analisar dados e criar visualizações estatísticas.'},\n",
              " {'palavra': 'scala',\n",
              "  'dica': 'desenvolver aplicativos escaláveis e concorrentes na jvm.'},\n",
              " {'palavra': 'hadoop',\n",
              "  'dica': 'armazenar e processar grandes volumes de dados em clusters distribuídos.'},\n",
              " {'palavra': 'spark',\n",
              "  'dica': 'processar e analisar dados de forma rápida e escalável.'},\n",
              " {'palavra': 'arduino',\n",
              "  'dica': 'desenvolver projetos eletrônicos interativos e automatizados.'},\n",
              " {'palavra': 'raspberry',\n",
              "  'dica': 'criar dispositivos e projetos de iot (internet das coisas) com baixo custo.'},\n",
              " {'palavra': 'linux',\n",
              "  'dica': 'utilizar e administrar sistemas operacionais de código aberto.'},\n",
              " {'palavra': 'windows',\n",
              "  'dica': 'desenvolver aplicativos e sistemas operacionais para computadores pessoais.'},\n",
              " {'palavra': 'macos',\n",
              "  'dica': 'desenvolver aplicativos para computadores apple e sistemas operacionais.'},\n",
              " {'palavra': 'android',\n",
              "  'dica': 'desenvolver aplicativos para dispositivos móveis android.'},\n",
              " {'palavra': 'ios',\n",
              "  'dica': 'desenvolver aplicativos para dispositivos móveis apple (iphone e ipad).'},\n",
              " {'palavra': 'firebase',\n",
              "  'dica': 'desenvolver aplicativos móveis e web com uma plataforma de backend escalável.'},\n",
              " {'palavra': 'aws',\n",
              "  'dica': 'implantar e gerenciar aplicativos em uma plataforma de nuvem líder de mercado.'},\n",
              " {'palavra': 'azure',\n",
              "  'dica': 'desenvolver, implantar e gerenciar aplicativos em uma plataforma de nuvem da microsoft.'},\n",
              " {'palavra': 'google',\n",
              "  'dica': 'utilizar serviços e produtos da google para desenvolvimento e negócios.'},\n",
              " {'palavra': 'api',\n",
              "  'dica': 'integrar e comunicar sistemas e serviços de software.'},\n",
              " {'palavra': 'rest',\n",
              "  'dica': 'criar e consumir apis web de maneira simples e eficiente.'},\n",
              " {'palavra': 'graphql',\n",
              "  'dica': 'consultar e manipular dados de forma eficiente e flexível.'},\n",
              " {'palavra': 'oauth',\n",
              "  'dica': 'implementar autenticação e autorização em aplicativos.'}]"
            ]
          },
          "metadata": {},
          "execution_count": 28
        }
      ],
      "source": [
        "import requests\n",
        "import random\n",
        "\n",
        "url = 'https://raw.githubusercontent.com/guilhermeonrails/api-imersao-ia/main/words.json'\n",
        "resposta = requests.get(url)\n",
        "data = resposta.json()\n",
        "\n",
        "data"
      ]
    },
    {
      "cell_type": "code",
      "source": [],
      "metadata": {
        "id": "8MrmVkICht-v"
      },
      "execution_count": null,
      "outputs": []
    },
    {
      "cell_type": "code",
      "source": [
        "#vendo como armazenar as informações\n",
        "#toda lista em python começa com indice 0\n",
        "data[0]"
      ],
      "metadata": {
        "colab": {
          "base_uri": "https://localhost:8080/"
        },
        "id": "Viw9JykxS9_e",
        "outputId": "092223d8-b502-4bcd-859b-db2af94d3dc2"
      },
      "execution_count": 32,
      "outputs": [
        {
          "output_type": "execute_result",
          "data": {
            "text/plain": [
              "{'palavra': 'python',\n",
              " 'dica': 'automatizar tarefas e desenvolver aplicações web.'}"
            ]
          },
          "metadata": {},
          "execution_count": 32
        }
      ]
    },
    {
      "cell_type": "code",
      "source": [
        "#variavel chamada valor secreto que armazena uma tecnologia aleatoria da lista\n",
        "valor_secreto = random.choice(data)\n",
        "# variavel para armazenar a penas a palavra\n",
        "palavra_secreta = valor_secreto['palavra']\n",
        "#variavel para armazenar a dica\n",
        "dica = valor_secreto['dica']\n",
        "#mostrou na tela quantas letras a palavra secreta possui\n",
        "#print(f'A palavra secreta tem {len(palavra_secreta)} letras -> {dica}')\n",
        "#Receber o chute ou palpite da tecnologia\n",
        "chute = input(f'A palavra secreta tem {len(palavra_secreta)} letras -> {dica}')\n",
        "if chute == palavra_secreta:\n",
        "  print('Acertou')\n",
        "else:\n",
        "  print(f'ERROU... a palavra secreta era {palavra_secreta}')"
      ],
      "metadata": {
        "colab": {
          "base_uri": "https://localhost:8080/"
        },
        "id": "AYxL_Ui8T9fu",
        "outputId": "1426b855-096e-451e-becc-b3003746a55c"
      },
      "execution_count": 55,
      "outputs": [
        {
          "output_type": "stream",
          "name": "stdout",
          "text": [
            "A palavra secreta tem 3 letras -> estilizar elementos em páginas web.css\n",
            "Acertou\n"
          ]
        }
      ]
    },
    {
      "cell_type": "code",
      "source": [],
      "metadata": {
        "id": "kF46ivmFUMWW"
      },
      "execution_count": 31,
      "outputs": []
    }
  ]
}